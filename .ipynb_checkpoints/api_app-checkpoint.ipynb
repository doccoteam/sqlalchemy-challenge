{
 "cells": [
  {
   "cell_type": "code",
   "execution_count": 1,
   "metadata": {},
   "outputs": [],
   "source": [
    "#dependencies\n",
    "\n",
    "import datetime as dt\n",
    "import numpy as np\n",
    "import pandas as pd\n",
    "import datetime as dt\n",
    "import sqlalchemy\n",
    "from sqlalchemy.ext.automap import automap_base\n",
    "from sqlalchemy.orm import Session\n",
    "from sqlalchemy import create_engine, func\n",
    "from flask import Flask, jsonify"
   ]
  },
  {
   "cell_type": "code",
   "execution_count": 2,
   "metadata": {},
   "outputs": [],
   "source": [
    "engine = create_engine(\"sqlite:///Resources/hawaii.sqlite\")"
   ]
  },
  {
   "cell_type": "code",
   "execution_count": 3,
   "metadata": {},
   "outputs": [],
   "source": [
    "# reflect an existing database into a new model\n",
    "Base = automap_base()\n",
    "# reflect the tables\n",
    "Base.prepare(engine, reflect=True)"
   ]
  },
  {
   "cell_type": "code",
   "execution_count": 4,
   "metadata": {},
   "outputs": [
    {
     "data": {
      "text/plain": [
       "['measurement', 'station']"
      ]
     },
     "execution_count": 4,
     "metadata": {},
     "output_type": "execute_result"
    }
   ],
   "source": [
    "Base.classes.keys()"
   ]
  },
  {
   "cell_type": "code",
   "execution_count": 5,
   "metadata": {},
   "outputs": [],
   "source": [
    "# Save references to each table\n",
    "Measurement = Base.classes.measurement\n",
    "Station = Base.classes.station"
   ]
  },
  {
   "cell_type": "code",
   "execution_count": 6,
   "metadata": {},
   "outputs": [],
   "source": [
    "# Flask Setup\n",
    "app = Flask(__name__)"
   ]
  },
  {
   "cell_type": "code",
   "execution_count": 7,
   "metadata": {},
   "outputs": [],
   "source": [
    "@app.route(\"/\")\n",
    "\n",
    "def home():\n",
    "    print(\"'Home' page\")\n",
    "    return \"Surfs Up Weather API\""
   ]
  },
  {
   "cell_type": "code",
   "execution_count": 8,
   "metadata": {},
   "outputs": [],
   "source": [
    "@app.route(\"/welcome\")\n",
    "def welcome():\n",
    "    return(\n",
    "    f\"Welcome to the Surf Up API<br>\"\n",
    "    f\"Available Routes:<br>\"\n",
    "    f\"/api/v1.0/precipitation<br>\"\n",
    "    f\"/api/v1.0/stations<br>\"\n",
    "    f\"/api/v1.0/tobs<br>\"\n",
    "    f\"/api/v1.0/<start><br>\"\n",
    "    f\"/api/v1.0<start>/<end><br>\"\n",
    "    )"
   ]
  },
  {
   "cell_type": "code",
   "execution_count": 10,
   "metadata": {},
   "outputs": [],
   "source": [
    "@app.route(\"/api/v1.0/precipitation\")\n",
    "\n",
    "def precipitation():\n",
    "\n",
    "#Query for the dates and temperature observations from the last year.\n",
    "\n",
    "    results = session.query(Measurements.date,Measurements.prcp).filter(Measurements.date >= \"08-23-2017\").all()\n",
    "    prcp = list(np.ravel(results))\n",
    "\n",
    "#results.___dict___\n",
    "#Create a dictionary using 'date' as the key and 'prcp' as the value.\n",
    "\n",
    "    \"\"\"prcp = []\n",
    "    for result in results:\n",
    "        row = {}\n",
    "        row[Measurements.date] = row[Measurements.prcp]\n",
    "        prcp.append(row)\"\"\"\n",
    "\n",
    "    return jsonify(prcp)"
   ]
  },
  {
   "cell_type": "code",
   "execution_count": 11,
   "metadata": {},
   "outputs": [],
   "source": [
    "@app.route(\"/api/v1.0/stations\")\n",
    "\n",
    "def stations():\n",
    "\n",
    "#return a json list of stations from the dataset.\n",
    "    results = session.query(Stations.station).all()\n",
    "    stations = list(np.ravel(results))\n",
    "\n",
    "    return jsonify(stations)"
   ]
  },
  {
   "cell_type": "code",
   "execution_count": 12,
   "metadata": {},
   "outputs": [],
   "source": [
    "@app.route(\"/api/v1.0/tobs\")\n",
    "\n",
    "def temperature():\n",
    "\n",
    "#Return a json list of Temperature Observations (tobs) for the previous year\n",
    "\n",
    "    tobs = []\n",
    "    results = session.query(Measurements.tobs).filter(Measurements.date >= \"08-23-2017\").all()\n",
    "    tobs = list(np.ravel(results))\n",
    "    return jsonify(tobs)"
   ]
  },
  {
   "cell_type": "code",
   "execution_count": 13,
   "metadata": {},
   "outputs": [],
   "source": [
    "@app.route(\"/api/v1.0/<start>\")\n",
    "def start_vacation_temp(start_date):\n",
    "    start_vac = []\n",
    "    temp_min = session.query(func.min(Measurements.tobs)).filter(Measurements.date == start_date).all()\n",
    "    temp_max = session.query(func.max(Measurements.tobs)).filter(Measurements.date == start_date).all()\n",
    "    temp_avg = session.query(func.avg(Measurements.tobs)).filter(Measurements.date == start_date).all()\n",
    "    start_vac = list(np.ravel(temp_min,temp_max,temp_avg))\n",
    "    return jsonify(start_vac)\n",
    "\n",
    "def after_start_date(start_date):\n",
    "    start_vac_date_temps = []\n",
    "    temp_min = session.query(func.min(Measurements.tobs)).filter(Measurements.date >= start_date).all()\n",
    "    temp_max = session.query(func.max(Measurements.tobs)).filter(Measurements.date >= start_date).all()\n",
    "    temp_avg = session.query(func.avg(Measurements.tobs)).filter(Measurements.date >= start_date).all()\n",
    "    start_vac_date_temps = list(np.ravel(temp_min,temp_max,temp_avg))\n",
    "    return jsonify(start_vac_date_temps)\n",
    "\n",
    "@app.route(\"/api/v1.0/<start>/<end>\")\n",
    "def start_end_vacation(start_date, end_date):\n",
    "    start_end_vac_temps = []\n",
    "    temp_min = session.query(func.min(Measurements.tobs)).\\\n",
    "    filter(Measurements.date == start_date, Measurements.date == end_date).all()\n",
    "    temp_max = session.query(func.max(Measurements.tobs)).filter(Measurements.date == start_date, Measurements.date == end_date).all()\n",
    "    temp_avg = session.query(func.avg(Measurements.tobs)).filter(Measurements.date == start_date, Measurements.date == end_date).all()\n",
    "    start_end_vac_temps = list(np.ravel(temp_min,temp_max,temp_avg))\n",
    "    return jsonify(start_end_vac_temps)\n",
    "\n",
    "def start_end_vac(start_date, end_date):\n",
    "    vac_temps = []\n",
    "    temp_min = session.query(func.min(Measurements.tobs)).filter(Measurements.date >= start_date, Measurements.date >= end_date).all()\n",
    "    temp_max = session.query(func.max(Measurements.tobs)).filter(Measurements.date >= start_date, Measurements.date >= end_date).all()\n",
    "    temp_avg = session.query(func.avg(Measurements.tobs)).filter(Measurements.date >= start_date, Measurements.date >= end_date).all()\n",
    "    vac_temps = list(np.ravel(temp_min,temp_max,temp_avg))\n",
    "    return jsonify(vac_temps)"
   ]
  },
  {
   "cell_type": "code",
   "execution_count": 14,
   "metadata": {},
   "outputs": [
    {
     "name": "stdout",
     "output_type": "stream",
     "text": [
      " * Serving Flask app \"__main__\" (lazy loading)\n",
      " * Environment: production\n",
      "   WARNING: This is a development server. Do not use it in a production deployment.\n",
      "   Use a production WSGI server instead.\n",
      " * Debug mode: on\n"
     ]
    },
    {
     "name": "stderr",
     "output_type": "stream",
     "text": [
      " * Restarting with stat\n"
     ]
    },
    {
     "ename": "SystemExit",
     "evalue": "1",
     "output_type": "error",
     "traceback": [
      "An exception has occurred, use %tb to see the full traceback.\n",
      "\u001b[1;31mSystemExit\u001b[0m\u001b[1;31m:\u001b[0m 1\n"
     ]
    },
    {
     "name": "stderr",
     "output_type": "stream",
     "text": [
      "C:\\Users\\eugen\\Anaconda3\\lib\\site-packages\\IPython\\core\\interactiveshell.py:3334: UserWarning: To exit: use 'exit', 'quit', or Ctrl-D.\n",
      "  warn(\"To exit: use 'exit', 'quit', or Ctrl-D.\", stacklevel=1)\n"
     ]
    }
   ],
   "source": [
    "if __name__ == '__main__':\n",
    "    app.run(debug=True)"
   ]
  },
  {
   "cell_type": "code",
   "execution_count": null,
   "metadata": {},
   "outputs": [],
   "source": []
  }
 ],
 "metadata": {
  "kernelspec": {
   "display_name": "Python 3.7.4 64-bit ('eugen': virtualenv)",
   "language": "python",
   "name": "python37464biteugenvirtualenve72cfa3fb3714978bca1637a00c7f464"
  },
  "language_info": {
   "codemirror_mode": {
    "name": "ipython",
    "version": 3
   },
   "file_extension": ".py",
   "mimetype": "text/x-python",
   "name": "python",
   "nbconvert_exporter": "python",
   "pygments_lexer": "ipython3",
   "version": "3.7.4"
  }
 },
 "nbformat": 4,
 "nbformat_minor": 2
}
